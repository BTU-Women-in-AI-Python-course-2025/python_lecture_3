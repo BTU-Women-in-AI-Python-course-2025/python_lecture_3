{
 "cells": [
  {
   "cell_type": "code",
   "execution_count": 1,
   "id": "initial_id",
   "metadata": {
    "collapsed": true,
    "ExecuteTime": {
     "end_time": "2025-08-09T20:25:01.597518Z",
     "start_time": "2025-08-09T20:25:01.594350Z"
    }
   },
   "outputs": [
    {
     "name": "stdout",
     "output_type": "stream",
     "text": [
      "3000\n"
     ]
    }
   ],
   "source": [
    "import sys\n",
    "print(sys.getrecursionlimit())"
   ]
  },
  {
   "cell_type": "code",
   "outputs": [
    {
     "name": "stdout",
     "output_type": "stream",
     "text": [
      "Hello from a function\n"
     ]
    }
   ],
   "source": [
    "def my_function():\n",
    "  print(\"Hello from a function\")\n",
    "  \n",
    "my_function()"
   ],
   "metadata": {
    "collapsed": false,
    "ExecuteTime": {
     "end_time": "2025-08-11T15:46:33.916470Z",
     "start_time": "2025-08-11T15:46:33.908753Z"
    }
   },
   "id": "77b6f53527c3a826",
   "execution_count": 3
  },
  {
   "cell_type": "code",
   "outputs": [
    {
     "name": "stdout",
     "output_type": "stream",
     "text": [
      "Emil Refsnes\n",
      "Tobias Refsnes\n",
      "Linus Refsnes\n"
     ]
    }
   ],
   "source": [
    "def my_function(fname):\n",
    "  print(fname + \" Refsnes\")\n",
    "\n",
    "my_function(\"Emil\")\n",
    "my_function(\"Tobias\")\n",
    "my_function(\"Linus\")"
   ],
   "metadata": {
    "collapsed": false,
    "ExecuteTime": {
     "end_time": "2025-08-11T15:47:32.347525Z",
     "start_time": "2025-08-11T15:47:32.341059Z"
    }
   },
   "id": "dbdaff50f936b0",
   "execution_count": 4
  },
  {
   "cell_type": "code",
   "outputs": [
    {
     "name": "stdout",
     "output_type": "stream",
     "text": [
      "Emil Refsnes\n"
     ]
    }
   ],
   "source": [
    "def my_function(fname, lname):\n",
    "  print(fname + \" \" + lname)\n",
    "\n",
    "my_function(\"Emil\", \"Refsnes\")"
   ],
   "metadata": {
    "collapsed": false,
    "ExecuteTime": {
     "end_time": "2025-08-11T15:50:10.786952Z",
     "start_time": "2025-08-11T15:50:10.782580Z"
    }
   },
   "id": "328e66099867a9a3",
   "execution_count": 11
  },
  {
   "cell_type": "code",
   "outputs": [
    {
     "name": "stdout",
     "output_type": "stream",
     "text": [
      "The youngest child is Linus\n"
     ]
    }
   ],
   "source": [
    "def my_function(*kids):\n",
    "  print(\"The youngest child is \" + kids[2])\n",
    "\n",
    "my_function(\"Emil\", \"Tobias\", \"Linus\")"
   ],
   "metadata": {
    "collapsed": false,
    "ExecuteTime": {
     "end_time": "2025-08-11T15:50:15.742882Z",
     "start_time": "2025-08-11T15:50:15.739862Z"
    }
   },
   "id": "319cbfb834a8fea9",
   "execution_count": 12
  },
  {
   "cell_type": "code",
   "outputs": [
    {
     "name": "stdout",
     "output_type": "stream",
     "text": [
      "His last name is Refsnes\n"
     ]
    }
   ],
   "source": [
    "def my_function(**kid):\n",
    "  print(\"His last name is \" + kid[\"lname\"])\n",
    "\n",
    "my_function(lname = \"Refsnes\")"
   ],
   "metadata": {
    "collapsed": false,
    "ExecuteTime": {
     "end_time": "2025-08-11T15:54:18.041200Z",
     "start_time": "2025-08-11T15:54:18.032805Z"
    }
   },
   "id": "e487a9b4b85b07e6",
   "execution_count": 16
  },
  {
   "cell_type": "code",
   "outputs": [
    {
     "name": "stdout",
     "output_type": "stream",
     "text": [
      "The youngest child is Emil\n"
     ]
    }
   ],
   "source": [
    "def my_function(child3, child2, child1):\n",
    "  print(\"The youngest child is \" + child3)\n",
    "\n",
    "my_function(child1 = \"Emil\", child2 = \"Tobias\", child3 = \"Linus\")"
   ],
   "metadata": {
    "collapsed": false,
    "ExecuteTime": {
     "end_time": "2025-08-11T15:58:06.603654Z",
     "start_time": "2025-08-11T15:58:06.595796Z"
    }
   },
   "id": "a304aae7859635a3",
   "execution_count": 18
  },
  {
   "cell_type": "code",
   "outputs": [
    {
     "name": "stdout",
     "output_type": "stream",
     "text": [
      "I am from Sweden\n",
      "I am from India\n",
      "I am from Norway\n",
      "I am from Brazil\n"
     ]
    }
   ],
   "source": [
    "def my_function(country = \"Norway\"):\n",
    "  print(\"I am from \" + country)\n",
    "\n",
    "my_function(\"Sweden\")\n",
    "my_function(\"India\")\n",
    "my_function()\n",
    "my_function(\"Brazil\")"
   ],
   "metadata": {
    "collapsed": false,
    "ExecuteTime": {
     "end_time": "2025-08-11T16:00:49.076373Z",
     "start_time": "2025-08-11T16:00:49.073454Z"
    }
   },
   "id": "a767fbd821039283",
   "execution_count": 20
  },
  {
   "cell_type": "code",
   "outputs": [
    {
     "name": "stdout",
     "output_type": "stream",
     "text": [
      "apple\n",
      "banana\n",
      "cherry\n"
     ]
    }
   ],
   "source": [
    "def my_function(food):\n",
    "  for x in food:\n",
    "    print(x)\n",
    "\n",
    "fruits = [\"apple\", \"banana\", \"cherry\"]\n",
    "\n",
    "my_function(fruits)"
   ],
   "metadata": {
    "collapsed": false,
    "ExecuteTime": {
     "end_time": "2025-08-11T16:02:27.686843Z",
     "start_time": "2025-08-11T16:02:27.680179Z"
    }
   },
   "id": "fb881fbae992fbfd",
   "execution_count": 22
  },
  {
   "cell_type": "code",
   "outputs": [
    {
     "name": "stdout",
     "output_type": "stream",
     "text": [
      "print(my_function(3))\n",
      "25\n",
      "45\n"
     ]
    },
    {
     "data": {
      "text/plain": "15"
     },
     "execution_count": 32,
     "metadata": {},
     "output_type": "execute_result"
    }
   ],
   "source": [
    "def my_function(x):\n",
    "  return 5 * x\n",
    "\n",
    "print(my_function(3))\n",
    "print(my_function(5))\n",
    "print(my_function(9))\n",
    "my_function(3)"
   ],
   "metadata": {
    "collapsed": false,
    "ExecuteTime": {
     "end_time": "2025-08-11T16:15:05.169392Z",
     "start_time": "2025-08-11T16:15:05.164284Z"
    }
   },
   "id": "2048324191950a47",
   "execution_count": 32
  },
  {
   "cell_type": "code",
   "outputs": [],
   "source": [
    "def myfunction():\n",
    "  pass"
   ],
   "metadata": {
    "collapsed": false
   },
   "id": "efd15aa150b69307"
  },
  {
   "cell_type": "code",
   "outputs": [
    {
     "name": "stdout",
     "output_type": "stream",
     "text": [
      "3\n"
     ]
    }
   ],
   "source": [
    "def my_function(x, /):\n",
    "  print(x)\n",
    "\n",
    "my_function(3)"
   ],
   "metadata": {
    "collapsed": false,
    "ExecuteTime": {
     "end_time": "2025-08-11T16:17:01.349187Z",
     "start_time": "2025-08-11T16:17:01.345939Z"
    }
   },
   "id": "e5d65f1626cbd78e",
   "execution_count": 36
  },
  {
   "cell_type": "code",
   "outputs": [
    {
     "ename": "TypeError",
     "evalue": "my_function() takes 0 positional arguments but 1 was given",
     "output_type": "error",
     "traceback": [
      "\u001B[31m---------------------------------------------------------------------------\u001B[39m",
      "\u001B[31mTypeError\u001B[39m                                 Traceback (most recent call last)",
      "\u001B[36mCell\u001B[39m\u001B[36m \u001B[39m\u001B[32mIn[38]\u001B[39m\u001B[32m, line 4\u001B[39m\n\u001B[32m      1\u001B[39m \u001B[38;5;28;01mdef\u001B[39;00m\u001B[38;5;250m \u001B[39m\u001B[34mmy_function\u001B[39m(*, x):\n\u001B[32m      2\u001B[39m   \u001B[38;5;28mprint\u001B[39m(x)\n\u001B[32m----> \u001B[39m\u001B[32m4\u001B[39m \u001B[43mmy_function\u001B[49m\u001B[43m(\u001B[49m\u001B[32;43m3\u001B[39;49m\u001B[43m)\u001B[49m\n",
      "\u001B[31mTypeError\u001B[39m: my_function() takes 0 positional arguments but 1 was given"
     ]
    }
   ],
   "source": [
    "def my_function(*, x):\n",
    "  print(x)\n",
    "\n",
    "my_function(x = 3)"
   ],
   "metadata": {
    "collapsed": false,
    "ExecuteTime": {
     "end_time": "2025-08-11T16:17:40.988785Z",
     "start_time": "2025-08-11T16:17:40.969798Z"
    }
   },
   "id": "1b2b5213ba4e33fb",
   "execution_count": 38
  },
  {
   "cell_type": "code",
   "outputs": [
    {
     "name": "stdout",
     "output_type": "stream",
     "text": [
      "26\n"
     ]
    }
   ],
   "source": [
    "def my_function(a, b, /, *, c, d):\n",
    "  print(a + b + c + d)\n",
    "\n",
    "my_function(5, 6, c = 7, d = 8)"
   ],
   "metadata": {
    "collapsed": false,
    "ExecuteTime": {
     "end_time": "2025-08-11T16:19:23.381678Z",
     "start_time": "2025-08-11T16:19:23.378296Z"
    }
   },
   "id": "f0f2483e00cf8434",
   "execution_count": 41
  },
  {
   "cell_type": "code",
   "outputs": [
    {
     "name": "stdout",
     "output_type": "stream",
     "text": [
      "15\n"
     ]
    }
   ],
   "source": [
    "x = lambda a : a + 10\n",
    "print(x(5))"
   ],
   "metadata": {
    "collapsed": false,
    "ExecuteTime": {
     "end_time": "2025-08-11T16:21:01.603893Z",
     "start_time": "2025-08-11T16:21:01.595558Z"
    }
   },
   "id": "fe05753576b8afe6",
   "execution_count": 42
  },
  {
   "cell_type": "code",
   "outputs": [
    {
     "name": "stdout",
     "output_type": "stream",
     "text": [
      "30\n"
     ]
    }
   ],
   "source": [
    "x = lambda a, b : a * b\n",
    "print(x(5, 6))"
   ],
   "metadata": {
    "collapsed": false,
    "ExecuteTime": {
     "end_time": "2025-08-11T16:21:47.206954Z",
     "start_time": "2025-08-11T16:21:47.196840Z"
    }
   },
   "id": "892a2aff802b7617",
   "execution_count": 43
  },
  {
   "cell_type": "code",
   "outputs": [
    {
     "name": "stdout",
     "output_type": "stream",
     "text": [
      "22\n"
     ]
    }
   ],
   "source": [
    "def myfunc(n):\n",
    "  return lambda a : a * n\n",
    "\n",
    "my_doubler = myfunc(2)\n",
    "my_3 = myfunc(3)\n",
    "my_4 = myfunc(4)\n",
    "\n",
    "print(my_doubler(11))\n",
    "print()"
   ],
   "metadata": {
    "collapsed": false,
    "ExecuteTime": {
     "end_time": "2025-08-11T16:22:41.556117Z",
     "start_time": "2025-08-11T16:22:41.548651Z"
    }
   },
   "id": "447567c19f8b9421",
   "execution_count": 44
  },
  {
   "cell_type": "code",
   "outputs": [
    {
     "name": "stdout",
     "output_type": "stream",
     "text": [
      "[1, 4, 9, 16, 25]\n"
     ]
    }
   ],
   "source": [
    "numbers = [1, 2, 3, 4, 5]\n",
    "squared = list(map(lambda x: x * x, numbers))\n",
    "print(squared)  # [1, 4, 9, 16, 25]"
   ],
   "metadata": {
    "collapsed": false,
    "ExecuteTime": {
     "end_time": "2025-08-11T16:28:02.661904Z",
     "start_time": "2025-08-11T16:28:02.655066Z"
    }
   },
   "id": "422f6ddff6aa9f88",
   "execution_count": 45
  },
  {
   "cell_type": "code",
   "outputs": [
    {
     "name": "stdout",
     "output_type": "stream",
     "text": [
      "[2, 5]\n"
     ]
    }
   ],
   "source": [
    "numbers = [-3, -1, 0, 2, 5]\n",
    "positive_nums = list(filter(lambda x: x > 0, numbers))\n",
    "print(positive_nums)  # [2, 5]"
   ],
   "metadata": {
    "collapsed": false,
    "ExecuteTime": {
     "end_time": "2025-08-11T16:32:35.581888Z",
     "start_time": "2025-08-11T16:32:35.576236Z"
    }
   },
   "id": "f4da3af5dd1ae080",
   "execution_count": 49
  },
  {
   "cell_type": "code",
   "outputs": [
    {
     "name": "stdout",
     "output_type": "stream",
     "text": [
      "28\n"
     ]
    }
   ],
   "source": [
    "from functools import reduce\n",
    "\n",
    "numbers = [1, 2, 3, 4, 5, 6, 7]\n",
    "total = reduce(lambda a, b: a + b, numbers)\n",
    "print(total) "
   ],
   "metadata": {
    "collapsed": false,
    "ExecuteTime": {
     "end_time": "2025-08-11T16:33:17.635604Z",
     "start_time": "2025-08-11T16:33:17.632493Z"
    }
   },
   "id": "3df6270c1e76e272",
   "execution_count": 50
  },
  {
   "cell_type": "code",
   "outputs": [
    {
     "name": "stdout",
     "output_type": "stream",
     "text": [
      "[{'name': 'Bob', 'age': 28}, {'name': 'Alice', 'age': 34}]\n"
     ]
    }
   ],
   "source": [
    "users = [\n",
    "    {\"name\": \"Alice\", \"age\": 34},\n",
    "    {\"name\": \"Bob\", \"age\": 28}\n",
    "]\n",
    "sorted_users_asc = sorted(users, key=lambda u: u[\"age\"])\n",
    "print(sorted_users_asc)\n",
    "# [{'name': 'Bob', 'age': 28}, {'name': 'Alice', 'age': 34}]"
   ],
   "metadata": {
    "collapsed": false,
    "ExecuteTime": {
     "end_time": "2025-08-11T16:37:50.392741Z",
     "start_time": "2025-08-11T16:37:50.389723Z"
    }
   },
   "id": "469a9538bc783326",
   "execution_count": 52
  },
  {
   "cell_type": "code",
   "outputs": [
    {
     "name": "stdout",
     "output_type": "stream",
     "text": [
      "[{'name': 'Bob', 'age': 28}, {'name': 'Alice', 'age': 34}]\n"
     ]
    }
   ],
   "source": [
    "sorted_users_desc = sorted(users, key=lambda u: u[\"name\"], reverse=True)\n",
    "print(sorted_users_desc)\n",
    "# [{'name': 'Alice', 'age': 34}, {'name': 'Bob', 'age': 28}]"
   ],
   "metadata": {
    "collapsed": false,
    "ExecuteTime": {
     "end_time": "2025-08-11T16:38:24.674478Z",
     "start_time": "2025-08-11T16:38:24.671870Z"
    }
   },
   "id": "733815263466ccf",
   "execution_count": 54
  },
  {
   "cell_type": "code",
   "outputs": [
    {
     "name": "stdout",
     "output_type": "stream",
     "text": [
      "True\n"
     ]
    }
   ],
   "source": [
    "nums = [0, 0, 3]\n",
    "print(any(nums))"
   ],
   "metadata": {
    "collapsed": false,
    "ExecuteTime": {
     "end_time": "2025-08-11T16:40:33.337683Z",
     "start_time": "2025-08-11T16:40:33.333769Z"
    }
   },
   "id": "5ab4da372345b905",
   "execution_count": 60
  },
  {
   "cell_type": "code",
   "outputs": [
    {
     "name": "stdout",
     "output_type": "stream",
     "text": [
      "False\n"
     ]
    }
   ],
   "source": [
    "nums = [0, 0, '']\n",
    "print(any(nums))"
   ],
   "metadata": {
    "collapsed": false,
    "ExecuteTime": {
     "end_time": "2025-08-11T16:40:54.630056Z",
     "start_time": "2025-08-11T16:40:54.627350Z"
    }
   },
   "id": "fe5d3a21321c0ef5",
   "execution_count": 61
  },
  {
   "cell_type": "code",
   "outputs": [
    {
     "name": "stdout",
     "output_type": "stream",
     "text": [
      "True\n"
     ]
    }
   ],
   "source": [
    "nums = [0, 0, 'abc']\n",
    "print(any(nums))"
   ],
   "metadata": {
    "collapsed": false,
    "ExecuteTime": {
     "end_time": "2025-08-11T16:41:03.589048Z",
     "start_time": "2025-08-11T16:41:03.586566Z"
    }
   },
   "id": "d59fc20da280b591",
   "execution_count": 62
  },
  {
   "cell_type": "code",
   "outputs": [
    {
     "name": "stdout",
     "output_type": "stream",
     "text": [
      "True\n"
     ]
    }
   ],
   "source": [
    "nums = [1, 2, 3]\n",
    "print(all(nums))"
   ],
   "metadata": {
    "collapsed": false,
    "ExecuteTime": {
     "end_time": "2025-08-11T16:41:21.384879Z",
     "start_time": "2025-08-11T16:41:21.382412Z"
    }
   },
   "id": "9c24d4f89f9cabeb",
   "execution_count": 63
  },
  {
   "cell_type": "code",
   "outputs": [
    {
     "name": "stdout",
     "output_type": "stream",
     "text": [
      "False\n"
     ]
    }
   ],
   "source": [
    "nums = [1, 0, 3]\n",
    "print(all(nums))"
   ],
   "metadata": {
    "collapsed": false,
    "ExecuteTime": {
     "end_time": "2025-08-11T16:41:46.878559Z",
     "start_time": "2025-08-11T16:41:46.875994Z"
    }
   },
   "id": "92667c2b8cc6a11a",
   "execution_count": 64
  },
  {
   "cell_type": "code",
   "outputs": [
    {
     "name": "stdout",
     "output_type": "stream",
     "text": [
      "[('Alice', 25), ('Bob', 30)]\n"
     ]
    }
   ],
   "source": [
    "names = [\"Alice\", \"Bob\", \"Charlie\"]\n",
    "ages = [25, 30, 35]\n",
    "\n",
    "combined = list(zip(names, ages))\n",
    "print(combined)\n",
    "# [('Alice', 25), ('Bob', 30), ('Charlie', 35)]"
   ],
   "metadata": {
    "collapsed": false,
    "ExecuteTime": {
     "end_time": "2025-08-11T16:43:29.405787Z",
     "start_time": "2025-08-11T16:43:29.402376Z"
    }
   },
   "id": "4816d6845c9ef52c",
   "execution_count": 67
  },
  {
   "cell_type": "code",
   "outputs": [
    {
     "name": "stdout",
     "output_type": "stream",
     "text": [
      "[('Alice', 25), ('Bob', 30)]\n"
     ]
    }
   ],
   "source": [
    "names = [\"Alice\", \"Bob\"]\n",
    "ages = [25, 30, 35]\n",
    "\n",
    "combined = list(zip(names, ages))\n",
    "print(combined)\n",
    "# [('Alice', 25), ('Bob', 30)]"
   ],
   "metadata": {
    "collapsed": false,
    "ExecuteTime": {
     "end_time": "2025-08-11T16:44:10.835200Z",
     "start_time": "2025-08-11T16:44:10.832034Z"
    }
   },
   "id": "a7a255b39b07263c",
   "execution_count": 68
  },
  {
   "cell_type": "code",
   "outputs": [
    {
     "name": "stdout",
     "output_type": "stream",
     "text": [
      "[('Alice', 25), ('Bob', 30)]\n"
     ]
    }
   ],
   "source": [
    "names = [\"Alice\", \"Bob\", \"Charlie\"]\n",
    "ages = [25, 30]\n",
    "\n",
    "combined = list(zip(names, ages))\n",
    "print(combined)\n",
    "# [('Alice', 25), ('Bob', 30)]"
   ],
   "metadata": {
    "collapsed": false,
    "ExecuteTime": {
     "end_time": "2025-08-11T16:44:12.687640Z",
     "start_time": "2025-08-11T16:44:12.684065Z"
    }
   },
   "id": "8af904510432c2bd",
   "execution_count": 69
  },
  {
   "cell_type": "code",
   "outputs": [
    {
     "name": "stdout",
     "output_type": "stream",
     "text": [
      "[('Alice', 25, 'New York'), ('Bob', 30, 'London'), ('Charlie', 35, 'Paris')]\n"
     ]
    }
   ],
   "source": [
    "names = [\"Alice\", \"Bob\", \"Charlie\"]\n",
    "ages = [25, 30, 35]\n",
    "cities = [\"New York\", \"London\", \"Paris\"]\n",
    "\n",
    "combined = list(zip(names, ages, cities))\n",
    "print(combined)\n"
   ],
   "metadata": {
    "collapsed": false,
    "ExecuteTime": {
     "end_time": "2025-08-11T16:44:24.499625Z",
     "start_time": "2025-08-11T16:44:24.494680Z"
    }
   },
   "id": "48351966fe52c6df",
   "execution_count": 70
  },
  {
   "cell_type": "code",
   "outputs": [
    {
     "name": "stdout",
     "output_type": "stream",
     "text": [
      "[(1, 'apple'), (2, 'banana'), (3, 'cherry')]\n",
      "1 apple\n",
      "2 banana\n",
      "3 cherry\n"
     ]
    }
   ],
   "source": [
    "fruits = [\"apple\", \"banana\", \"cherry\"]\n",
    "print(list(enumerate(fruits, start=1)))\n",
    "for index, fruit in enumerate(fruits, start=1):\n",
    "    print(index, fruit)\n",
    "\n",
    "# 1 apple\n",
    "# 2 banana\n",
    "# 3 cherry"
   ],
   "metadata": {
    "collapsed": false,
    "ExecuteTime": {
     "end_time": "2025-08-11T16:46:41.153135Z",
     "start_time": "2025-08-11T16:46:41.150291Z"
    }
   },
   "id": "fde47c947f33689c",
   "execution_count": 74
  },
  {
   "cell_type": "code",
   "outputs": [
    {
     "name": "stdout",
     "output_type": "stream",
     "text": [
      "71569457046263802294811533723186532165584657342365752577109445058227039255480148842668944867280814080000000000000000000\n"
     ]
    }
   ],
   "source": [
    "def factorial_iterative(n):\n",
    "    result = 1\n",
    "    for i in range(1, n + 1):\n",
    "        result *= i\n",
    "    return result\n",
    "\n",
    "print(factorial_iterative(80))"
   ],
   "metadata": {
    "collapsed": false,
    "ExecuteTime": {
     "end_time": "2025-08-11T17:01:28.185965Z",
     "start_time": "2025-08-11T17:01:28.182789Z"
    }
   },
   "id": "aa8b4d0cd6a9ebb5",
   "execution_count": 79
  },
  {
   "cell_type": "code",
   "outputs": [
    {
     "name": "stdout",
     "output_type": "stream",
     "text": [
      "71569457046263802294811533723186532165584657342365752577109445058227039255480148842668944867280814080000000000000000000\n"
     ]
    }
   ],
   "source": [
    "def factorial(n):\n",
    "    if n == 0 or n == 1:  # Base case\n",
    "        return 1\n",
    "    return n * factorial(n - 1)  # Recursive call\n",
    "\n",
    "print(factorial(80))"
   ],
   "metadata": {
    "collapsed": false,
    "ExecuteTime": {
     "end_time": "2025-08-11T17:01:32.912354Z",
     "start_time": "2025-08-11T17:01:32.908999Z"
    }
   },
   "id": "84d1ab89dd78d5ad",
   "execution_count": 80
  },
  {
   "cell_type": "code",
   "outputs": [],
   "source": [],
   "metadata": {
    "collapsed": false
   },
   "id": "875e0006a330bc37"
  }
 ],
 "metadata": {
  "kernelspec": {
   "display_name": "Python 3",
   "language": "python",
   "name": "python3"
  },
  "language_info": {
   "codemirror_mode": {
    "name": "ipython",
    "version": 2
   },
   "file_extension": ".py",
   "mimetype": "text/x-python",
   "name": "python",
   "nbconvert_exporter": "python",
   "pygments_lexer": "ipython2",
   "version": "2.7.6"
  }
 },
 "nbformat": 4,
 "nbformat_minor": 5
}
